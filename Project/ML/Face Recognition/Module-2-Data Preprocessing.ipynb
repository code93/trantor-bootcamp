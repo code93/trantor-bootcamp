{
 "cells": [
  {
   "cell_type": "code",
   "execution_count": 1,
   "id": "042ec1eb",
   "metadata": {},
   "outputs": [],
   "source": [
    "import numpy as np\n",
    "import pandas as pd\n",
    "import matplotlib.pyplot as plt\n",
    "import cv2\n",
    "from PIL import Image\n",
    "%matplotlib inline"
   ]
  },
  {
   "cell_type": "code",
   "execution_count": 4,
   "id": "507d2b7b",
   "metadata": {},
   "outputs": [],
   "source": [
    "import pickle"
   ]
  },
  {
   "cell_type": "code",
   "execution_count": 5,
   "id": "ee2f1793",
   "metadata": {},
   "outputs": [],
   "source": [
    "df = pickle.load(open('../data/dataframe_images_100_100.pickle','rb'))"
   ]
  },
  {
   "cell_type": "code",
   "execution_count": 6,
   "id": "1edb7548",
   "metadata": {},
   "outputs": [
    {
     "data": {
      "text/html": [
       "<div>\n",
       "<style scoped>\n",
       "    .dataframe tbody tr th:only-of-type {\n",
       "        vertical-align: middle;\n",
       "    }\n",
       "\n",
       "    .dataframe tbody tr th {\n",
       "        vertical-align: top;\n",
       "    }\n",
       "\n",
       "    .dataframe thead th {\n",
       "        text-align: right;\n",
       "    }\n",
       "</style>\n",
       "<table border=\"1\" class=\"dataframe\">\n",
       "  <thead>\n",
       "    <tr style=\"text-align: right;\">\n",
       "      <th></th>\n",
       "      <th>gender</th>\n",
       "      <th>0</th>\n",
       "      <th>1</th>\n",
       "      <th>2</th>\n",
       "      <th>3</th>\n",
       "      <th>4</th>\n",
       "      <th>5</th>\n",
       "      <th>6</th>\n",
       "      <th>7</th>\n",
       "      <th>8</th>\n",
       "      <th>...</th>\n",
       "      <th>9990</th>\n",
       "      <th>9991</th>\n",
       "      <th>9992</th>\n",
       "      <th>9993</th>\n",
       "      <th>9994</th>\n",
       "      <th>9995</th>\n",
       "      <th>9996</th>\n",
       "      <th>9997</th>\n",
       "      <th>9998</th>\n",
       "      <th>9999</th>\n",
       "    </tr>\n",
       "  </thead>\n",
       "  <tbody>\n",
       "    <tr>\n",
       "      <th>0</th>\n",
       "      <td>female</td>\n",
       "      <td>188</td>\n",
       "      <td>180</td>\n",
       "      <td>184</td>\n",
       "      <td>188</td>\n",
       "      <td>173</td>\n",
       "      <td>179</td>\n",
       "      <td>192</td>\n",
       "      <td>178</td>\n",
       "      <td>216</td>\n",
       "      <td>...</td>\n",
       "      <td>109</td>\n",
       "      <td>111</td>\n",
       "      <td>115</td>\n",
       "      <td>116</td>\n",
       "      <td>122</td>\n",
       "      <td>116</td>\n",
       "      <td>119</td>\n",
       "      <td>120</td>\n",
       "      <td>117</td>\n",
       "      <td>111</td>\n",
       "    </tr>\n",
       "    <tr>\n",
       "      <th>1</th>\n",
       "      <td>female</td>\n",
       "      <td>32</td>\n",
       "      <td>24</td>\n",
       "      <td>32</td>\n",
       "      <td>27</td>\n",
       "      <td>29</td>\n",
       "      <td>29</td>\n",
       "      <td>29</td>\n",
       "      <td>32</td>\n",
       "      <td>36</td>\n",
       "      <td>...</td>\n",
       "      <td>58</td>\n",
       "      <td>47</td>\n",
       "      <td>27</td>\n",
       "      <td>33</td>\n",
       "      <td>22</td>\n",
       "      <td>28</td>\n",
       "      <td>22</td>\n",
       "      <td>36</td>\n",
       "      <td>62</td>\n",
       "      <td>17</td>\n",
       "    </tr>\n",
       "    <tr>\n",
       "      <th>2</th>\n",
       "      <td>female</td>\n",
       "      <td>22</td>\n",
       "      <td>30</td>\n",
       "      <td>39</td>\n",
       "      <td>36</td>\n",
       "      <td>30</td>\n",
       "      <td>61</td>\n",
       "      <td>11</td>\n",
       "      <td>17</td>\n",
       "      <td>10</td>\n",
       "      <td>...</td>\n",
       "      <td>156</td>\n",
       "      <td>171</td>\n",
       "      <td>177</td>\n",
       "      <td>186</td>\n",
       "      <td>176</td>\n",
       "      <td>185</td>\n",
       "      <td>186</td>\n",
       "      <td>190</td>\n",
       "      <td>177</td>\n",
       "      <td>177</td>\n",
       "    </tr>\n",
       "    <tr>\n",
       "      <th>3</th>\n",
       "      <td>female</td>\n",
       "      <td>35</td>\n",
       "      <td>35</td>\n",
       "      <td>35</td>\n",
       "      <td>35</td>\n",
       "      <td>35</td>\n",
       "      <td>35</td>\n",
       "      <td>35</td>\n",
       "      <td>35</td>\n",
       "      <td>35</td>\n",
       "      <td>...</td>\n",
       "      <td>75</td>\n",
       "      <td>82</td>\n",
       "      <td>90</td>\n",
       "      <td>92</td>\n",
       "      <td>86</td>\n",
       "      <td>70</td>\n",
       "      <td>89</td>\n",
       "      <td>84</td>\n",
       "      <td>84</td>\n",
       "      <td>74</td>\n",
       "    </tr>\n",
       "    <tr>\n",
       "      <th>4</th>\n",
       "      <td>female</td>\n",
       "      <td>86</td>\n",
       "      <td>86</td>\n",
       "      <td>71</td>\n",
       "      <td>54</td>\n",
       "      <td>45</td>\n",
       "      <td>49</td>\n",
       "      <td>33</td>\n",
       "      <td>20</td>\n",
       "      <td>18</td>\n",
       "      <td>...</td>\n",
       "      <td>35</td>\n",
       "      <td>34</td>\n",
       "      <td>32</td>\n",
       "      <td>32</td>\n",
       "      <td>30</td>\n",
       "      <td>32</td>\n",
       "      <td>34</td>\n",
       "      <td>34</td>\n",
       "      <td>33</td>\n",
       "      <td>30</td>\n",
       "    </tr>\n",
       "  </tbody>\n",
       "</table>\n",
       "<p>5 rows × 10001 columns</p>\n",
       "</div>"
      ],
      "text/plain": [
       "   gender    0    1    2    3    4    5    6    7    8  ...  9990  9991  9992  \\\n",
       "0  female  188  180  184  188  173  179  192  178  216  ...   109   111   115   \n",
       "1  female   32   24   32   27   29   29   29   32   36  ...    58    47    27   \n",
       "2  female   22   30   39   36   30   61   11   17   10  ...   156   171   177   \n",
       "3  female   35   35   35   35   35   35   35   35   35  ...    75    82    90   \n",
       "4  female   86   86   71   54   45   49   33   20   18  ...    35    34    32   \n",
       "\n",
       "   9993  9994  9995  9996  9997  9998  9999  \n",
       "0   116   122   116   119   120   117   111  \n",
       "1    33    22    28    22    36    62    17  \n",
       "2   186   176   185   186   190   177   177  \n",
       "3    92    86    70    89    84    84    74  \n",
       "4    32    30    32    34    34    33    30  \n",
       "\n",
       "[5 rows x 10001 columns]"
      ]
     },
     "execution_count": 6,
     "metadata": {},
     "output_type": "execute_result"
    }
   ],
   "source": [
    "df.head()"
   ]
  },
  {
   "cell_type": "code",
   "execution_count": 7,
   "id": "f107a22a",
   "metadata": {},
   "outputs": [
    {
     "name": "stdout",
     "output_type": "stream",
     "text": [
      "<class 'pandas.core.frame.DataFrame'>\n",
      "Int64Index: 5461 entries, 0 to 6057\n",
      "Columns: 10001 entries, gender to 9999\n",
      "dtypes: object(1), uint8(10000)\n",
      "memory usage: 52.2+ MB\n"
     ]
    }
   ],
   "source": [
    "df.info()"
   ]
  },
  {
   "cell_type": "code",
   "execution_count": 8,
   "id": "4931f20d",
   "metadata": {},
   "outputs": [
    {
     "data": {
      "text/plain": [
       "gender    0\n",
       "0         0\n",
       "1         0\n",
       "2         0\n",
       "3         0\n",
       "         ..\n",
       "9995      0\n",
       "9996      0\n",
       "9997      0\n",
       "9998      0\n",
       "9999      0\n",
       "Length: 10001, dtype: int64"
      ]
     },
     "execution_count": 8,
     "metadata": {},
     "output_type": "execute_result"
    }
   ],
   "source": [
    "# checking for missing values\n",
    "df.isnull().sum()"
   ]
  },
  {
   "cell_type": "code",
   "execution_count": 10,
   "id": "7a7e6010",
   "metadata": {},
   "outputs": [],
   "source": [
    "# Data Preprocessing\n",
    "#- Remove missing values\n",
    "#- Data Normalization (min max scaling)\n"
   ]
  },
  {
   "cell_type": "code",
   "execution_count": 11,
   "id": "72b17235",
   "metadata": {},
   "outputs": [],
   "source": [
    "# Removing Missing Values\n",
    "df.dropna(axis=0,inplace=True)"
   ]
  },
  {
   "cell_type": "code",
   "execution_count": 12,
   "id": "5b8af9fa",
   "metadata": {},
   "outputs": [
    {
     "data": {
      "text/plain": [
       "gender    0\n",
       "0         0\n",
       "1         0\n",
       "2         0\n",
       "3         0\n",
       "         ..\n",
       "9995      0\n",
       "9996      0\n",
       "9997      0\n",
       "9998      0\n",
       "9999      0\n",
       "Length: 10001, dtype: int64"
      ]
     },
     "execution_count": 12,
     "metadata": {},
     "output_type": "execute_result"
    }
   ],
   "source": [
    "df.isnull().sum()"
   ]
  },
  {
   "cell_type": "code",
   "execution_count": 13,
   "id": "cef77e40",
   "metadata": {},
   "outputs": [],
   "source": [
    "# split the data into two parts\n",
    "X = df.iloc[:,1:].values # independent features\n",
    "y = df.iloc[:,0].values # dependent"
   ]
  },
  {
   "cell_type": "code",
   "execution_count": 14,
   "id": "880fd316",
   "metadata": {},
   "outputs": [
    {
     "data": {
      "text/plain": [
       "(5461, 10000)"
      ]
     },
     "execution_count": 14,
     "metadata": {},
     "output_type": "execute_result"
    }
   ],
   "source": [
    "X.shape"
   ]
  },
  {
   "cell_type": "code",
   "execution_count": 16,
   "id": "7fa80243",
   "metadata": {},
   "outputs": [],
   "source": [
    "# Min Max Scaling\n",
    "# Xnorm = (x - minValue) / (maxValue  - minValue)"
   ]
  },
  {
   "cell_type": "code",
   "execution_count": 18,
   "id": "46df251b",
   "metadata": {},
   "outputs": [
    {
     "data": {
      "text/plain": [
       "(0, 255)"
      ]
     },
     "execution_count": 18,
     "metadata": {},
     "output_type": "execute_result"
    }
   ],
   "source": [
    "X.min(), X.max()"
   ]
  },
  {
   "cell_type": "code",
   "execution_count": 19,
   "id": "1f4fae4e",
   "metadata": {},
   "outputs": [],
   "source": [
    "Xnorm = X / X.max()"
   ]
  },
  {
   "cell_type": "code",
   "execution_count": 20,
   "id": "7789d134",
   "metadata": {},
   "outputs": [
    {
     "data": {
      "text/plain": [
       "array([[0.7372549 , 0.70588235, 0.72156863, ..., 0.47058824, 0.45882353,\n",
       "        0.43529412],\n",
       "       [0.1254902 , 0.09411765, 0.1254902 , ..., 0.14117647, 0.24313725,\n",
       "        0.06666667],\n",
       "       [0.08627451, 0.11764706, 0.15294118, ..., 0.74509804, 0.69411765,\n",
       "        0.69411765],\n",
       "       ...,\n",
       "       [0.09803922, 0.09803922, 0.10196078, ..., 0.11764706, 0.12156863,\n",
       "        0.13333333],\n",
       "       [0.08235294, 0.10588235, 0.12156863, ..., 0.07843137, 0.08627451,\n",
       "        0.09803922],\n",
       "       [0.01568627, 0.01176471, 0.00784314, ..., 0.35294118, 0.35294118,\n",
       "        0.36470588]])"
      ]
     },
     "execution_count": 20,
     "metadata": {},
     "output_type": "execute_result"
    }
   ],
   "source": [
    "Xnorm"
   ]
  },
  {
   "cell_type": "code",
   "execution_count": 21,
   "id": "0bb7176e",
   "metadata": {},
   "outputs": [
    {
     "data": {
      "text/plain": [
       "(5461, 10000)"
      ]
     },
     "execution_count": 21,
     "metadata": {},
     "output_type": "execute_result"
    }
   ],
   "source": [
    "Xnorm.shape"
   ]
  },
  {
   "cell_type": "code",
   "execution_count": 22,
   "id": "94f1724f",
   "metadata": {},
   "outputs": [
    {
     "data": {
      "text/plain": [
       "array(['female', 'female', 'female', ..., 'male', 'male', 'male'],\n",
       "      dtype=object)"
      ]
     },
     "execution_count": 22,
     "metadata": {},
     "output_type": "execute_result"
    }
   ],
   "source": [
    "y"
   ]
  },
  {
   "cell_type": "code",
   "execution_count": 24,
   "id": "3a2b8683",
   "metadata": {},
   "outputs": [],
   "source": [
    "# female = 1, male = 0\n",
    "y_norm = np.where(y=='female',1,0)"
   ]
  },
  {
   "cell_type": "code",
   "execution_count": 25,
   "id": "f4b0f708",
   "metadata": {},
   "outputs": [],
   "source": [
    "#Saving X and y\n",
    "np.savez('../data/data_100_100_norm',Xnorm,y_norm)"
   ]
  },
  {
   "cell_type": "code",
   "execution_count": 26,
   "id": "444edf41",
   "metadata": {},
   "outputs": [],
   "source": [
    "# saving X and y in numpy Zip\n",
    "np.savez('../data/data_10000_norm.npz',Xnorm,y_norm)"
   ]
  },
  {
   "cell_type": "code",
   "execution_count": null,
   "id": "2c6ad5e8",
   "metadata": {},
   "outputs": [],
   "source": []
  }
 ],
 "metadata": {
  "kernelspec": {
   "display_name": "Python 3",
   "language": "python",
   "name": "python3"
  },
  "language_info": {
   "codemirror_mode": {
    "name": "ipython",
    "version": 3
   },
   "file_extension": ".py",
   "mimetype": "text/x-python",
   "name": "python",
   "nbconvert_exporter": "python",
   "pygments_lexer": "ipython3",
   "version": "3.9.5"
  }
 },
 "nbformat": 4,
 "nbformat_minor": 5
}
